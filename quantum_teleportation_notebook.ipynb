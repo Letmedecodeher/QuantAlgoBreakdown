{
 "cells": [
  {
   "cell_type": "markdown",
   "metadata": {},
   "source": [
    "# Quantum Teleportation: Transferring a Qubit Without Moving It\n",
    "\n",
    "## 📌 Introduction\n",
    "\n",
    "Quantum teleportation is a protocol that allows the transfer of an unknown quantum state from one location to another, using entanglement and classical communication. Importantly, the state is not cloned but destroyed at the source and reconstructed at the destination, maintaining the no-cloning theorem of quantum mechanics.\n",
    "\n",
    "This is one of the most fundamental quantum algorithms because it combines multiple quantum concepts: entanglement, measurement, and the need for classical communication in a quantum world. It lays the groundwork for quantum networks, distributed quantum computing, and quantum cryptography."
   ]
  },
  {
   "cell_type": "markdown",
   "metadata": {},
   "source": [
    "## 🎯 Learning Goals\n",
    "\n",
    "By the end of this tutorial, you will be able to:\n",
    "- Understand the problem quantum teleportation solves\n",
    "- Grasp how entanglement and measurement enable teleportation\n",
    "- Identify how each quantum gate in the circuit contributes to the protocol\n",
    "- Implement and test the teleportation algorithm using Qiskit\n",
    "- Run it both on a simulator and on a real quantum backend (optional)"
   ]
  },
  {
   "cell_type": "markdown",
   "metadata": {},
   "source": [
    "## 📚 Background\n",
    "\n",
    "To understand quantum teleportation, you need to be familiar with:\n",
    "- **Qubits**: The fundamental units of quantum information\n",
    "- **Superposition**: A qubit can exist in a combination of |0⟩ and |1⟩\n",
    "- **Entanglement**: A strong correlation between two qubits such that the state of one determines the state of the other\n",
    "- **Quantum Measurement**: Collapses a qubit to |0⟩ or |1⟩ probabilistically\n",
    "- **Bell State**: An entangled pair (e.g., (|00⟩ + |11⟩)/√2)\n",
    "- **Quantum Gates**: Especially H (Hadamard), CNOT, X, and Z"
   ]
  },
  {
   "cell_type": "markdown",
   "metadata": {},
   "source": [
    "## 🔧 Setup: Installing Qiskit\n",
    "\n",
    "First, let's install Qiskit and its dependencies:"
   ]
  },
  {
   "cell_type": "code",
   "execution_count": null,
   "metadata": {},
   "outputs": [],
   "source": [
    "# Install Qiskit with visualization support\n",
    "!pip install qiskit[visualization]"
   ]
  },
  {
   "cell_type": "code",
   "execution_count": null,
   "metadata": {},
   "outputs": [],
   "source": [
    "# Verify Qiskit installation\n",
    "import qiskit\n",
    "print(\"Qiskit version:\", qiskit.__version__)"
   ]
  },
  {
   "cell_type": "markdown",
   "metadata": {},
   "source": [
    "## 🧠 Step-by-Step Algorithm Explanation\n",
    "\n",
    "### 💡 The Idea:\n",
    "1. You want to teleport the unknown state |ψ⟩ = α|0⟩ + β|1⟩ from Alice to Bob\n",
    "2. Alice and Bob share an entangled pair of qubits\n",
    "3. Alice performs quantum operations and measurements on her qubits\n",
    "4. She sends her measurement results to Bob (classical bits)\n",
    "5. Bob uses these to reconstruct the original state on his qubit\n",
    "\n",
    "### 🔧 Circuit Breakdown:\n",
    "1. Prepare a 3-qubit circuit\n",
    "2. Qubit 0: |ψ⟩ — the state to teleport\n",
    "3. Qubits 1 and 2: initialized to |0⟩\n",
    "4. Entangle qubits 1 and 2\n",
    "5. Apply CNOT and H to qubit 0\n",
    "6. Measure qubits 0 and 1\n",
    "7. Depending on those results, apply X and/or Z to qubit 2"
   ]
  },
  {
   "cell_type": "markdown",
   "metadata": {},
   "source": [
    "## 🔬 Implementation: Let's Build the Quantum Teleportation Circuit\n",
    "\n",
    "We'll start by importing the necessary libraries:"
   ]
  },
  {
   "cell_type": "code",
   "execution_count": null,
   "metadata": {},
   "outputs": [],
   "source": [
    "# Import required libraries\n",
    "from qiskit import QuantumCircuit, ClassicalRegister, QuantumRegister\n",
    "from qiskit import Aer, execute\n",
    "from qiskit.visualization import plot_histogram, plot_bloch_multivector\n",
    "import matplotlib.pyplot as plt\n",
    "import numpy as np"
   ]
  },
  {
   "cell_type": "markdown",
   "metadata": {},
   "source": [
    "### Step 1: Prepare the Quantum Circuit\n",
    "\n",
    "First, we'll create the quantum and classical registers, and then build our circuit:"
   ]
  },
  {
   "cell_type": "code",
   "execution_count": null,
   "metadata": {},
   "outputs": [],
   "source": [
    "# Define the quantum and classical registers\n",
    "# Three qubits: [0] for psi (to teleport), [1] for A (Alice), and [2] for B (Bob)\n",
    "qreg = QuantumRegister(3, name=\"q\")\n",
    "# Classical bits to store measurement results\n",
    "creg = ClassicalRegister(2, name=\"c\")\n",
    "\n",
    "# Create the quantum circuit\n",
    "teleport_circuit = QuantumCircuit(qreg, creg)"
   ]
  },
  {
   "cell_type": "markdown",
   "metadata": {},
   "source": [
    "### Step 2: Prepare the State to Teleport\n",
    "\n",
    "We'll initialize qubit 0 to a superposition state |+⟩ = (|0⟩ + |1⟩)/√2 using a Hadamard gate, which we'll teleport to Bob:"
   ]
  },
  {
   "cell_type": "code",
   "execution_count": null,
   "metadata": {},
   "outputs": [],
   "source": [
    "# Step 1: Initialize the state to teleport (|+> state in this case)\n",
    "teleport_circuit.h(qreg[0])\n",
    "teleport_circuit.barrier()\n",
    "\n",
    "# Display the circuit so far\n",
    "teleport_circuit.draw(output='mpl')"
   ]
  },
  {
   "cell_type": "markdown",
   "metadata": {},
   "source": [
    "### Step 3: Create an Entangled Bell Pair\n",
    "\n",
    "Next, we need to create an entangled pair between Alice (qubit 1) and Bob (qubit 2):"
   ]
  },
  {
   "cell_type": "code",
   "execution_count": null,
   "metadata": {},
   "outputs": [],
   "source": [
    "# Step 2: Create an entangled Bell pair between qubits A and B\n",
    "teleport_circuit.h(qreg[1])  # Apply Hadamard to qubit 1 (Alice)\n",
    "teleport_circuit.cx(qreg[1], qreg[2])  # Apply CNOT with qubit 1 as control and qubit 2 as target\n",
    "teleport_circuit.barrier()\n",
    "\n",
    "# Display the circuit so far\n",
    "teleport_circuit.draw(output='mpl')"
   ]
  },
  {
   "cell_type": "markdown",
   "metadata": {},
   "source": [
    "### Step 4: Perform Bell Measurement\n",
    "\n",
    "Now, Alice performs a Bell measurement on her qubits (0 and 1):"
   ]
  },
  {
   "cell_type": "code",
   "execution_count": null,
   "metadata": {},
   "outputs": [],
   "source": [
    "# Step 3: Bell measurement of the psi qubit and qubit A\n",
    "teleport_circuit.cx(qreg[0], qreg[1])  # CNOT with qubit 0 as control and 1 as target\n",
    "teleport_circuit.h(qreg[0])  # Apply Hadamard to qubit 0\n",
    "teleport_circuit.barrier()\n",
    "\n",
    "# Step 4: Measure qubits 0 and 1\n",
    "teleport_circuit.measure(qreg[0], creg[0])  # Measure qubit 0 to classical bit 0\n",
    "teleport_circuit.measure(qreg[1], creg[1])  # Measure qubit 1 to classical bit 1\n",
    "teleport_circuit.barrier()\n",
    "\n",
    "# Display the circuit so far\n",
    "teleport_circuit.draw(output='mpl')"
   ]
  },
  {
   "cell_type": "markdown",
   "metadata": {},
   "source": [
    "### Step 5: Apply Corrections Based on Measurement Results\n",
    "\n",
    "Finally, Bob applies quantum gates to reconstruct the state based on Alice's measurement results:"
   ]
  },
  {
   "cell_type": "code",
   "execution_count": null,
   "metadata": {},
   "outputs": [],
   "source": [
    "# Step 5: Apply classical corrections to qubit B based on measurement results\n",
    "teleport_circuit.x(qreg[2]).c_if(creg[1], 1)  # Apply X gate if qubit A measured as 1\n",
    "teleport_circuit.z(qreg[2]).c_if(creg[0], 1)  # Apply Z gate if psi qubit measured as 1\n",
    "\n",
    "# Display the complete circuit\n",
    "teleport_circuit.draw(output='mpl', fold=20)"
   ]
  },
  {
   "cell_type": "markdown",
   "metadata": {},
   "source": [
    "## 🔬 Running the Quantum Teleportation Circuit\n",
    "\n",
    "Now, let's run the teleportation circuit on a simulator:"
   ]
  },
  {
   "cell_type": "code",
   "execution_count": null,
   "metadata": {},
   "outputs": [],
   "source": [
    "# Initialize the simulator\n",
    "simulator = Aer.get_backend('qasm_simulator')\n",
    "\n",
    "# Execute the circuit\n",
    "job = execute(teleport_circuit, simulator, shots=1024)\n",
    "result = job.result()\n",
    "counts = result.get_counts(teleport_circuit)\n",
    "\n",
    "# Display the results\n",
    "print(\"Simulation Results:\")\n",
    "print(counts)\n",
    "plot_histogram(counts)"
   ]
  },
  {
   "cell_type": "markdown",
   "metadata": {},
   "source": [
    "## 🔍 Verifying the Teleportation\n",
    "\n",
    "Let's verify that the quantum teleportation worked correctly by checking if Bob's qubit (qubit 2) received the state |+⟩ that we initially prepared on qubit 0.\n",
    "\n",
    "We'll create a modified circuit that includes a measurement of Bob's qubit after the teleportation:"
   ]
  },
  {
   "cell_type": "code",
   "execution_count": null,
   "metadata": {},
   "outputs": [],
   "source": [
    "# Create a verification circuit\n",
    "verify_circuit = teleport_circuit.copy()\n",
    "verify_circuit.barrier()\n",
    "\n",
    "# Apply Hadamard to transform |+> back to |0> before measurement\n",
    "verify_circuit.h(qreg[2])\n",
    "\n",
    "# Add an additional classical register for Bob's measurement\n",
    "verify_measure = ClassicalRegister(1, 'verify')\n",
    "verify_circuit.add_register(verify_measure)\n",
    "\n",
    "# Measure Bob's qubit\n",
    "verify_circuit.measure(qreg[2], verify_measure[0])\n",
    "\n",
    "# Draw the verification circuit\n",
    "verify_circuit.draw(output='mpl', fold=20)"
   ]
  },
  {
   "cell_type": "code",
   "execution_count": null,
   "metadata": {},
   "outputs": [],
   "source": [
    "# Execute the verification circuit\n",
    "verify_job = execute(verify_circuit, simulator, shots=1024)\n",
    "verify_result = verify_job.result()\n",
    "verify_counts = verify_result.get_counts()\n",
    "\n",
    "# Display the verification results\n",
    "print(\"Verification Results:\")\n",
    "print(verify_counts)\n",
    "plot_histogram(verify_counts)"
   ]
  },
  {
   "cell_type": "markdown",
   "metadata": {},
   "source": [
    "## 💻 The Math & Algorithms Behind Quantum Teleportation\n",
    "\n",
    "### 1. Core Quantum Mechanical Principles\n",
    "\n",
    "#### Quantum Superposition\n",
    "- **Mathematical representation**: A qubit |ψ⟩ can exist in a state |ψ⟩ = α|0⟩ + β|1⟩ where α and β are complex amplitudes with |α|² + |β|² = 1\n",
    "- **In the code**: Created with the Hadamard gate (H) applied to |0⟩, producing the state |+⟩ = (|0⟩ + |1⟩)/√2\n",
    "- **Line of code**: `teleport_circuit.h(qreg[0])` initializes the state to teleport\n",
    "\n",
    "#### Quantum Entanglement\n",
    "- **Mathematical representation**: Creation of the Bell state |Φ⁺⟩ = (|00⟩ + |11⟩)/√2\n",
    "- **In the code**: Created with H gate followed by CNOT gate\n",
    "- **Lines of code**: \n",
    "  ```python\n",
    "  teleport_circuit.h(qreg[1])\n",
    "  teleport_circuit.cx(qreg[1], qreg[2])\n",
    "  ```\n",
    "\n",
    "#### Bell State Measurement\n",
    "- **Mathematical basis**: Projects a two-qubit system onto the Bell basis {|Φ⁺⟩, |Φ⁻⟩, |Ψ⁺⟩, |Ψ⁻⟩}\n",
    "- **In the code**: Implemented with CNOT followed by H, then measurement\n",
    "- **Lines of code**:\n",
    "  ```python\n",
    "  teleport_circuit.cx(qreg[0], qreg[1])\n",
    "  teleport_circuit.h(qreg[0])\n",
    "  teleport_circuit.measure(qreg[0], creg[0])\n",
    "  teleport_circuit.measure(qreg[1], creg[1])\n",
    "  ```"
   ]
  },
  {
   "cell_type": "markdown",
   "metadata": {},
   "source": [
    "### 2. Mathematical Transformations\n",
    "\n",
    "#### Hadamard Transform\n",
    "- **Mathematical representation**: H = (1/√2) * [[1, 1], [1, -1]]\n",
    "- **Effect**: Transforms basis states into superpositions:\n",
    "  - |0⟩ → (|0⟩ + |1⟩)/√2 = |+⟩\n",
    "  - |1⟩ → (|0⟩ - |1⟩)/√2 = |-⟩\n",
    "\n",
    "#### Controlled-NOT (CNOT) Operation\n",
    "- **Mathematical representation**: CNOT = [[1,0,0,0], [0,1,0,0], [0,0,0,1], [0,0,1,0]]\n",
    "- **Effect**: Flips the target qubit if the control qubit is |1⟩\n",
    "\n",
    "#### Pauli-X (NOT) Gate\n",
    "- **Mathematical representation**: X = [[0,1], [1,0]]\n",
    "- **Effect**: Bit flip operation: |0⟩ → |1⟩ and |1⟩ → |0⟩\n",
    "\n",
    "#### Pauli-Z Gate\n",
    "- **Mathematical representation**: Z = [[1,0], [0,-1]]\n",
    "- **Effect**: Phase flip operation: |0⟩ → |0⟩ and |1⟩ → -|1⟩"
   ]
  },
  {
   "cell_type": "markdown",
   "metadata": {},
   "source": [
    "### 3. Algorithms and Protocols\n",
    "\n",
    "#### Quantum Teleportation Protocol\n",
    "This is the core algorithm implemented in the code, which follows these steps:\n",
    "\n",
    "1. **State Preparation**: Create the state to be teleported\n",
    "2. **Entanglement Generation**: Create an entangled Bell pair between qubits A and B\n",
    "3. **Bell Measurement**: Perform a joint measurement on the input state and qubit A\n",
    "4. **Classical Communication**: (Simulated by conditional operations in code)\n",
    "5. **Conditional Unitary Operations**: Apply X and/or Z gates based on measurement results\n",
    "\n",
    "#### Conditional Logic\n",
    "- **Mathematical representation**: If-then logic based on measurement outcomes\n",
    "- **In the code**: Implemented using the `.c_if()` method to apply gates conditionally\n",
    "- **Lines of code**:\n",
    "  ```python\n",
    "  teleport_circuit.x(qreg[2]).c_if(creg[1], 1)\n",
    "  teleport_circuit.z(qreg[2]).c_if(creg[0], 1)\n",
    "  ```"
   ]
  },
  {
   "cell_type": "markdown",
   "metadata": {},
   "source": [
    "## 📊 Running on a Real Quantum Computer (Optional)\n",
    "\n",
    "If you have access to IBM Quantum, you can run the teleportation circuit on a real quantum computer:"
   ]
  },
  {
   "cell_type": "code",
   "execution_count": null,
   "metadata": {},
   "outputs": [],
   "source": [
    "\n",
    "\n",
    " from qiskit import IBMQ\n",
    " IBMQ.save_account('YOUR_API_TOKEN')\n",
    " provider = IBMQ.load_account()\n",
    "\n",
    "# Get the least busy backend with at least 3 qubits\n",
    "# from qiskit.providers.ibmq import least_busy\n",
    "# small_devices = provider.backends(filters=lambda x: x.configuration().n_qubits >= 3 and \n",
    "#                                              not x.configuration().simulator)\n",
    "# backend = least_busy(small_devices)\n",
    "# print(f\"Using real quantum computer: {backend.name()}\")\n",
    "\n",
    "# # Execute the circuit on a real quantum computer\n",
    "# job = execute(teleport_circuit, backend, shots=1024)\n",
    "# result = job.result()\n",
    "# counts = result.get_counts(teleport_circuit)\n",
    "\n",
    "# # Display the results\n",
    "# print(\"Real Quantum Computer Results:\")\n",
    "# print(counts)\n",
    "# plot_histogram(counts)"
   ]
  },
  {
   "cell_type": "markdown",
   "metadata": {},
   "source": [
    "## 🧩 Conclusion\n",
    "\n",
    "In this notebook, we've implemented and analyzed the quantum teleportation protocol using Qiskit. We've seen how:\n",
    "\n",
    "1. Quantum teleportation allows us to transfer quantum states between qubits without violating the no-cloning theorem\n",
    "2. Entanglement serves as the quantum resource that enables teleportation\n",
    "3. Classical communication is still needed to complete the teleportation process\n",
    "4. The protocol combines multiple quantum operations and measurements in a specific sequence\n",
    "\n",
    "Quantum teleportation is not only a fascinating demonstration of quantum mechanics but also a foundational building block for quantum networks and distributed quantum computing."
   ]
  },
  {
   "cell_type": "markdown",
   "metadata": {},
   "source": [
    "## 🔍 Further Explorations\n",
    "\n",
    "Here are some ideas to extend this project:\n",
    "\n",
    "1. Teleport different initial states (not just |+⟩) and verify the results\n",
    "2. Implement quantum teleportation for multi-qubit systems\n",
    "3. Explore the effects of noise on teleportation fidelity\n",
    "4. Compare results between simulators and real quantum hardware\n",
    "5. Implement remote state preparation (a related protocol)"
   ]
  }
 ],
 "metadata": {
  "kernelspec": {
   "display_name": "Python 3",
   "language": "python",
   "name": "python3"
  },
  "language_info": {
   "codemirror_mode": {
    "name": "ipython",
    "version": 3
   },
   "file_extension": ".py",
   "mimetype": "text/x-python",
   "name": "python",
   "nbconvert_exporter": "python",
   "pygments_lexer": "ipython3",
   "version": "3.8.8"
  }
 },
 "nbformat": 4,
 "nbformat_minor": 4
}
