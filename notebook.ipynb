#jupiter notebook codes with explanation
